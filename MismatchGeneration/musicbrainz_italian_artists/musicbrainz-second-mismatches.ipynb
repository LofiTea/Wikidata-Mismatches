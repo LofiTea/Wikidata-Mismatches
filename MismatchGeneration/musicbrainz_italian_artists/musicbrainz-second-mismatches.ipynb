{
 "cells": [
  {
   "cell_type": "markdown",
   "id": "be02a957-7133-4d02-818e-fedeb3cecb05",
   "metadata": {},
   "source": [
    "# MusicBrainz 2nd Mismatches"
   ]
  },
  {
   "cell_type": "code",
   "execution_count": 1,
   "id": "5b15f94c-1d69-420b-8832-17b5506e43e7",
   "metadata": {},
   "outputs": [],
   "source": [
    "import ast\n",
    "import json\n",
    "import sys\n",
    "import urllib\n",
    "import requests\n",
    "import csv\n",
    "import re\n",
    "\n",
    "import numpy as np\n",
    "import pandas as pd\n",
    "\n",
    "PATH_TO_UTILS = \".\"\n",
    "sys.path.append(PATH_TO_UTILS)\n",
    "\n",
    "from utils import check_mf_formatting\n",
    "from SPARQLWrapper import SPARQLWrapper, JSON\n",
    "from tqdm import tqdm\n",
    "from time import sleep"
   ]
  },
  {
   "cell_type": "code",
   "execution_count": 2,
   "id": "0e1c017d-9550-4774-91da-ac01203c1361",
   "metadata": {},
   "outputs": [],
   "source": [
    "def extract_q_values_from_csv(file_path):\n",
    "    column1 = []\n",
    "    with open(file_path, newline='') as csvfile:\n",
    "        csvreader = csv.reader(csvfile)\n",
    "        next(csvreader)\n",
    "        for row in csvreader:\n",
    "            column1.append(row[0])\n",
    "    column1 = column1[1:]\n",
    "    return column1\n",
    "\n",
    "def get_guid_for_property(q_value, property_id):\n",
    "    url = f\"https://www.wikidata.org/wiki/Special:EntityData/{q_value}.json\"\n",
    "    response = requests.get(url)\n",
    "    if response.status_code == 200:\n",
    "        data = response.json()\n",
    "        if \"entities\" in data and q_value in data[\"entities\"]:\n",
    "            entity_data = data[\"entities\"][q_value]\n",
    "            if \"claims\" in entity_data and property_id in entity_data[\"claims\"]:\n",
    "                statement = entity_data[\"claims\"][property_id][0]\n",
    "                return statement[\"id\"]\n",
    "    return None\n",
    "\n",
    "def get_artist_id(wikidata_id):\n",
    "    wikidata_url = \"https://www.wikidata.org/w/api.php\"\n",
    "    params = {\"action\": \"wbgetentities\", \"ids\": wikidata_id, \"format\": \"json\"}\n",
    "    response = requests.get(wikidata_url, params=params)\n",
    "    wikidata_data = response.json()\n",
    "    try:\n",
    "        artist_id = wikidata_data[\"entities\"][wikidata_id][\"claims\"][\"P434\"][0][\"mainsnak\"][\"datavalue\"][\"value\"]\n",
    "        return artist_id\n",
    "    except KeyError:\n",
    "        return None\n",
    "    \n",
    "def fetch_entity_data(entity_id):\n",
    "    url = f\"https://www.wikidata.org/wiki/Special:EntityData/{entity_id}.json\"\n",
    "    response = requests.get(url)\n",
    "    if response.status_code == 200:\n",
    "        return response.json()\n",
    "    else:\n",
    "        print(\"Error fetching data:\", response.status_code)\n",
    "        return None\n",
    "\n",
    "def fetch_artist_data(artist_id):\n",
    "    url = f\"https://musicbrainz.org/ws/2/artist/{artist_id}?fmt=json\"\n",
    "    response = requests.get(url)\n",
    "    if response.status_code == 200:\n",
    "        return response.json()\n",
    "    else:\n",
    "        print(\"Error fetching data:\", response.status_code)\n",
    "        return None\n",
    "\n",
    "def extract_date_from_wikidata(entity_id):\n",
    "    wikidata_entity = fetch_entity_data(entity_id)\n",
    "    if wikidata_entity and \"entities\" in wikidata_entity and entity_id in wikidata_entity[\"entities\"]:\n",
    "        entity_info = wikidata_entity[\"entities\"][entity_id]\n",
    "        if \"claims\" in entity_info and \"P569\" in entity_info[\"claims\"]:\n",
    "            inception_date_claim = entity_info[\"claims\"][\"P569\"][0]\n",
    "            if \"mainsnak\" in inception_date_claim and \"datavalue\" in inception_date_claim[\"mainsnak\"]:\n",
    "                inception_date = inception_date_claim[\"mainsnak\"][\"datavalue\"][\"value\"][\"time\"]\n",
    "                year = inception_date[1:5]\n",
    "                month = inception_date[6:8]\n",
    "                day = inception_date[9:11]\n",
    "                return f\"{year}-{month}-{day}\"\n",
    "    return None"
   ]
  },
  {
   "cell_type": "code",
   "execution_count": 4,
   "id": "3934435c-5f50-4afd-ac9b-2a2e1ceb48bf",
   "metadata": {},
   "outputs": [
    {
     "name": "stderr",
     "output_type": "stream",
     "text": [
      "Processing:   2%|▏         | 106/5409 [01:24<1:07:56,  1.30it/s]"
     ]
    },
    {
     "name": "stdout",
     "output_type": "stream",
     "text": [
      "Error fetching data: 404\n"
     ]
    },
    {
     "name": "stderr",
     "output_type": "stream",
     "text": [
      "Processing:  24%|██▍       | 1314/5409 [17:16<56:29,  1.21it/s]  "
     ]
    },
    {
     "name": "stdout",
     "output_type": "stream",
     "text": [
      "Error fetching data: 404\n"
     ]
    },
    {
     "name": "stderr",
     "output_type": "stream",
     "text": [
      "Processing:  25%|██▌       | 1359/5409 [17:51<54:41,  1.23it/s]"
     ]
    },
    {
     "name": "stdout",
     "output_type": "stream",
     "text": [
      "Error fetching data: 404\n"
     ]
    },
    {
     "name": "stderr",
     "output_type": "stream",
     "text": [
      "Processing:  49%|████▉     | 2668/5409 [34:44<33:34,  1.36it/s]  "
     ]
    },
    {
     "name": "stdout",
     "output_type": "stream",
     "text": [
      "Error fetching data: 503\n"
     ]
    },
    {
     "name": "stderr",
     "output_type": "stream",
     "text": [
      "Processing:  49%|████▉     | 2669/5409 [34:45<33:14,  1.37it/s]"
     ]
    },
    {
     "name": "stdout",
     "output_type": "stream",
     "text": [
      "Error fetching data: 503\n"
     ]
    },
    {
     "name": "stderr",
     "output_type": "stream",
     "text": [
      "Processing:  58%|█████▊    | 3142/5409 [40:43<28:21,  1.33it/s]"
     ]
    },
    {
     "name": "stdout",
     "output_type": "stream",
     "text": [
      "Error fetching data: 404\n"
     ]
    },
    {
     "name": "stderr",
     "output_type": "stream",
     "text": [
      "Processing:  58%|█████▊    | 3152/5409 [40:51<28:34,  1.32it/s]"
     ]
    },
    {
     "name": "stdout",
     "output_type": "stream",
     "text": [
      "Error fetching data: 503\n"
     ]
    },
    {
     "name": "stderr",
     "output_type": "stream",
     "text": [
      "Processing:  60%|██████    | 3247/5409 [42:04<27:15,  1.32it/s]"
     ]
    },
    {
     "name": "stdout",
     "output_type": "stream",
     "text": [
      "Error fetching data: 404\n"
     ]
    },
    {
     "name": "stderr",
     "output_type": "stream",
     "text": [
      "Processing:  64%|██████▍   | 3460/5409 [44:43<23:53,  1.36it/s]"
     ]
    },
    {
     "name": "stdout",
     "output_type": "stream",
     "text": [
      "Error fetching data: 404\n"
     ]
    },
    {
     "name": "stderr",
     "output_type": "stream",
     "text": [
      "Processing:  72%|███████▏  | 3902/5409 [50:12<19:15,  1.30it/s]"
     ]
    },
    {
     "name": "stdout",
     "output_type": "stream",
     "text": [
      "Error fetching data: 404\n"
     ]
    },
    {
     "name": "stderr",
     "output_type": "stream",
     "text": [
      "Processing:  73%|███████▎  | 3940/5409 [50:40<17:57,  1.36it/s]"
     ]
    },
    {
     "name": "stdout",
     "output_type": "stream",
     "text": [
      "Error fetching data: 503\n"
     ]
    },
    {
     "name": "stderr",
     "output_type": "stream",
     "text": [
      "Processing:  80%|████████  | 4332/5409 [55:43<14:02,  1.28it/s]"
     ]
    },
    {
     "name": "stdout",
     "output_type": "stream",
     "text": [
      "Error fetching data: 404\n"
     ]
    },
    {
     "name": "stderr",
     "output_type": "stream",
     "text": [
      "Processing:  80%|████████  | 4348/5409 [55:56<13:30,  1.31it/s]"
     ]
    },
    {
     "name": "stdout",
     "output_type": "stream",
     "text": [
      "Error fetching data: 404\n"
     ]
    },
    {
     "name": "stderr",
     "output_type": "stream",
     "text": [
      "Processing:  96%|█████████▋| 5217/5409 [1:07:09<02:17,  1.39it/s]"
     ]
    },
    {
     "name": "stdout",
     "output_type": "stream",
     "text": [
      "Error fetching data: 503\n"
     ]
    },
    {
     "name": "stderr",
     "output_type": "stream",
     "text": [
      "Processing: 100%|█████████▉| 5408/5409 [1:09:35<00:00,  1.30it/s]\n"
     ]
    }
   ],
   "source": [
    "mismatches = []\n",
    "q_values = extract_q_values_from_csv(\"mb_italy.csv\")\n",
    "for q_value in tqdm(q_values, desc=\"Processing\", total=5409):\n",
    "    artist_id = get_artist_id(q_value)\n",
    "    musicbrainz_artist = fetch_artist_data(artist_id)\n",
    "    wikidata_date = extract_date_from_wikidata(q_value)\n",
    "    if wikidata_date is None or musicbrainz_artist is None:\n",
    "        continue\n",
    "    if \"life-span\" in musicbrainz_artist and musicbrainz_artist[\"life-span\"][\"begin\"] is not None and len(musicbrainz_artist[\"life-span\"][\"begin\"]) >= 10:\n",
    "        musicbrainz_date = musicbrainz_artist[\"life-span\"][\"begin\"][:10]\n",
    "        if wikidata_date != musicbrainz_date:\n",
    "            link = \"https://musicbrainz.org/artist/\" + artist_id\n",
    "            mismatch_finder_entry = {\n",
    "                \"item_id\": q_value,\n",
    "                \"statement_guid\": get_guid_for_property(q_value, \"P569\"),\n",
    "                \"property_id\": \"P569\",\n",
    "                \"wikidata_value\": wikidata_date,\n",
    "                \"meta_wikidata_value\": \"Q1985727\",\n",
    "                \"external_value\": musicbrainz_date,\n",
    "                \"external_url\": link,\n",
    "                \"type\": \"statement\"\n",
    "            }\n",
    "            mismatches.append(mismatch_finder_entry)\n",
    "    elif \"life-span\" in musicbrainz_artist and musicbrainz_artist[\"life-span\"][\"begin\"] is not None:\n",
    "        musicbrainz_date = musicbrainz_artist[\"life-span\"][\"begin\"][:4]\n",
    "        wikidata_date = wikidata_date[:4]\n",
    "        if wikidata_date != musicbrainz_date:\n",
    "            link = \"https://musicbrainz.org/artist/\" + artist_id\n",
    "            mismatch_finder_entry = {\n",
    "                \"item_id\": q_value,\n",
    "                \"statement_guid\": get_guid_for_property(q_value, \"P569\"),\n",
    "                \"property_id\": \"P569\",\n",
    "                \"wikidata_value\": wikidata_date,\n",
    "                \"meta_wikidata_value\": \"Q1985727\",\n",
    "                \"external_value\": musicbrainz_date,\n",
    "                \"external_url\": link,\n",
    "                \"type\": \"statement\"\n",
    "            }\n",
    "            mismatches.append(mismatch_finder_entry)\n",
    "    else:\n",
    "        continue\n",
    "\n",
    "file_name = 'mb_italy_mm.csv'\n",
    "header = [\"item_id\", \"statement_guid\", \"property_id\", \"wikidata_value\", \"meta_wikidata_value\", \"external_value\", \"external_url\", \"type\"]\n",
    "with open(file_name, 'w', newline='') as csv_file:\n",
    "    writer = csv.DictWriter(csv_file, fieldnames=header)\n",
    "    writer.writeheader()\n",
    "    for row in mismatches:\n",
    "        writer.writerow(row)"
   ]
  },
  {
   "cell_type": "code",
   "execution_count": 5,
   "id": "808df55a-3fef-44fa-acea-1ac7de46dac2",
   "metadata": {},
   "outputs": [
    {
     "name": "stdout",
     "output_type": "stream",
     "text": [
      "All checks have passed! The data is ready to be uploaded to Mismatch Finder.\n"
     ]
    }
   ],
   "source": [
    "musicbrainz_second_mismatches = pd.read_csv(\"mb_italy_mm.csv\")\n",
    "check_mf_formatting(musicbrainz_second_mismatches)"
   ]
  }
 ],
 "metadata": {
  "kernelspec": {
   "display_name": "seminar",
   "language": "python",
   "name": "seminar"
  },
  "language_info": {
   "codemirror_mode": {
    "name": "ipython",
    "version": 3
   },
   "file_extension": ".py",
   "mimetype": "text/x-python",
   "name": "python",
   "nbconvert_exporter": "python",
   "pygments_lexer": "ipython3",
   "version": "3.11.5"
  }
 },
 "nbformat": 4,
 "nbformat_minor": 5
}
