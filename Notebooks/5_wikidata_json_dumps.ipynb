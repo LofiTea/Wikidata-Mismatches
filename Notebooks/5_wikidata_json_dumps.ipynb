{
 "cells": [
  {
   "cell_type": "markdown",
   "id": "f66e1ce5-8385-4e98-802a-36085f8c9653",
   "metadata": {},
   "source": [
    "# Wikidata JSON Dumps\n",
    "\n",
    "> Welcome!\n",
    "> \n",
    "> For this notebook we will not be using [PAWS](https://hub-paws.wmcloud.org/) as the data sizes are too large\n",
    "\n",
    "This notebook provides an overview of working with the [Wikidata Dumps](https://www.wikidata.org/wiki/Wikidata:Database_download) using [requests](https://requests.readthedocs.io/en/latest/) and other Python libraries. The dumps themselves can be found at [dumps.wikimedia.org/other/wikibase/wikidatawiki](https://dumps.wikimedia.org/other/wikibase/wikidatawiki/)."
   ]
  },
  {
   "cell_type": "code",
   "execution_count": null,
   "id": "88ec60f0",
   "metadata": {},
   "outputs": [],
   "source": [
    "# pip install tensorflow"
   ]
  },
  {
   "cell_type": "code",
   "execution_count": null,
   "id": "19b7712a-e8f8-402c-8152-d65f255e9b3a",
   "metadata": {},
   "outputs": [],
   "source": [
    "# pip install jupyter-black"
   ]
  },
  {
   "cell_type": "code",
   "execution_count": null,
   "id": "4c381353-adb4-44dd-abb8-0fd111850dd4",
   "metadata": {},
   "outputs": [],
   "source": [
    "%load_ext jupyter_black"
   ]
  },
  {
   "cell_type": "code",
   "execution_count": null,
   "id": "7ae05276",
   "metadata": {},
   "outputs": [],
   "source": [
    "import sys\n",
    "\n",
    "PATH_TO_UTILS = \"../MismatchGeneration/\"  # change based on your directory structure\n",
    "sys.path.append(PATH_TO_UTILS)\n",
    "\n",
    "from utils import download_wikidata_dump"
   ]
  },
  {
   "cell_type": "code",
   "execution_count": null,
   "id": "0e0abd97",
   "metadata": {},
   "outputs": [],
   "source": [
    "download_wikidata_dump(\n",
    "    target_dir=\"../MismatchGeneration/Data\", dump_id=False  # get the most recent dump\n",
    ")"
   ]
  },
  {
   "cell_type": "code",
   "execution_count": null,
   "id": "38dbb6ee-0af5-4b9d-b39d-b24459b3d1b8",
   "metadata": {},
   "outputs": [],
   "source": []
  }
 ],
 "metadata": {
  "kernelspec": {
   "display_name": "Python 3 (ipykernel)",
   "language": "python",
   "name": "python3"
  },
  "language_info": {
   "codemirror_mode": {
    "name": "ipython",
    "version": 3
   },
   "file_extension": ".py",
   "mimetype": "text/x-python",
   "name": "python",
   "nbconvert_exporter": "python",
   "pygments_lexer": "ipython3",
   "version": "3.11.4"
  }
 },
 "nbformat": 4,
 "nbformat_minor": 5
}
