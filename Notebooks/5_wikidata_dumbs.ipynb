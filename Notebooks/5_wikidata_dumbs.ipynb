{
 "cells": [
  {
   "cell_type": "markdown",
   "id": "f66e1ce5-8385-4e98-802a-36085f8c9653",
   "metadata": {},
   "source": [
    "# Wikidata Dumbs\n",
    "\n",
    "> Welcome!\n",
    "> \n",
    "> Please download this notebook and load it into your [PAWS instance](https://hub-paws.wmcloud.org/)\n",
    "\n",
    "This notebook provides an overview of working with the [Wikidata Dumps](https://www.wikidata.org/wiki/Wikidata:Database_download) using [requests](https://requests.readthedocs.io/en/latest/) and other Python libraries. The dumps themselves can be foun at [dumps.wikimedia.org/other/wikibase/wikidatawiki](https://dumps.wikimedia.org/other/wikibase/wikidatawiki/)."
   ]
  },
  {
   "cell_type": "code",
   "execution_count": null,
   "id": "a8a220ea-73f5-46cc-8c4c-6343b73383d3",
   "metadata": {},
   "outputs": [],
   "source": []
  }
 ],
 "metadata": {
  "kernelspec": {
   "display_name": "Python 3 (ipykernel)",
   "language": "python",
   "name": "python3"
  },
  "language_info": {
   "codemirror_mode": {
    "name": "ipython",
    "version": 3
   },
   "file_extension": ".py",
   "mimetype": "text/x-python",
   "name": "python",
   "nbconvert_exporter": "python",
   "pygments_lexer": "ipython3",
   "version": "3.10.12"
  }
 },
 "nbformat": 4,
 "nbformat_minor": 5
}
