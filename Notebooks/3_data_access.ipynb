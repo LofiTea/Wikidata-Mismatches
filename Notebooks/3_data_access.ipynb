{
 "cells": [
  {
   "cell_type": "markdown",
   "id": "d646164d-707c-49a9-b3bf-9a3a378512c4",
   "metadata": {},
   "source": [
    "# Data Access\n",
    "\n",
    "> Welcome!\n",
    "> \n",
    "> Please download this notebook and load it into your [PAWS instance](https://hub-paws.wmcloud.org/)\n",
    "\n",
    "This notebook provides a basic overview of the following methods that are used to access data from Wikidata:\n",
    "\n",
    "- [Wikidata REST API](https://www.wikidata.org/wiki/Wikidata:REST_API)\n",
    "- [WikidataIntegrator](https://github.com/SuLab/WikidataIntegrator)\n",
    "- [SPARQLWrapper](https://github.com/RDFLib/sparqlwrapper)\n",
    "- [Pywikibot](https://github.com/wikimedia/pywikibot)\n",
    "- [wikidata](https://github.com/dahlia/wikidata)\n",
    "- [Wiki Replicas](https://wikitech.wikimedia.org/wiki/Wiki_Replicas)\n",
    "\n",
    "We'll start with the REST API and then move to Python packages! All examples will be based on getting information about [Douglas Adams](https://en.wikipedia.org/wiki/Douglas_Adams), the author of the [Hitchhiker's Guide to the Galaxy](https://en.wikipedia.org/wiki/The_Hitchhiker%27s_Guide_to_the_Galaxy) and [Q42](https://www.wikidata.org/wiki/Q42) in Wikidata. Resources for learning more about the tools are included in each section.\n",
    "\n",
    "**Note**: please see [PAWS examples and recipes](https://wikitech.wikimedia.org/wiki/PAWS/PAWS_examples_and_recipes) for a full list of tutorials on how to use Wikidatas data in PAWS."
   ]
  },
  {
   "cell_type": "markdown",
   "id": "040d1b6e-494c-4e28-9258-6e963bd4400a",
   "metadata": {},
   "source": [
    "## SQL Syntax"
   ]
  },
  {
   "cell_type": "markdown",
   "id": "6f425d35-aeed-4fbb-8f97-daf91d704dbe",
   "metadata": {},
   "source": [
    "SQL and other query languages like SPARQL have never developed a common format that they should be written in. We'd suggest the following for SQL during the program:\n",
    "\n",
    "- Upper case all statements\n",
    "  - `SELECT`, `SELECT DISTINCT`, `WHERE`, `ORDER BY`, etc\n",
    "- Upper case all operators and constant values\n",
    "  - `AND`, `OR`, `IN`, `NOT IN`, `JOIN`, `LEFT JOIN`, `IS NULL`, etc\n",
    "- Lower case all functions as the parentheses will make them apparent \n",
    "  - `count()`, `sum()`, etc\n",
    "- After a statement always go to the next line and indent\n",
    "  - Do the same for `ON` during a join\n",
    "- Use aliases (`table AS t` or `long_value AS value`) liberally\n",
    "  - It's a good habbit to shorten your query and make sure all elements are detailed"
   ]
  },
  {
   "cell_type": "markdown",
   "id": "b0a3e940-07db-4d63-8a56-634788a822f2",
   "metadata": {},
   "source": [
    "## Imports"
   ]
  },
  {
   "cell_type": "code",
   "execution_count": 1,
   "id": "d358953d-ab90-4c2d-898c-c346361bd30d",
   "metadata": {},
   "outputs": [],
   "source": [
    "# pip install wikidataintegrator"
   ]
  },
  {
   "cell_type": "code",
   "execution_count": 2,
   "id": "7e3e31fc-c16e-4b33-9647-0a2e79970cf8",
   "metadata": {},
   "outputs": [],
   "source": [
    "# pip install sparqlwrapper"
   ]
  },
  {
   "cell_type": "code",
   "execution_count": 3,
   "id": "a0e7b238-4b8f-4fe0-bc2b-f9da2c39ec3a",
   "metadata": {},
   "outputs": [],
   "source": [
    "# pip install wikidata"
   ]
  },
  {
   "cell_type": "code",
   "execution_count": 4,
   "id": "5519c4fa-7089-45b6-ba7e-6d6f4711377f",
   "metadata": {},
   "outputs": [],
   "source": [
    "# pip install jupyter-black"
   ]
  },
  {
   "cell_type": "code",
   "execution_count": 5,
   "id": "6b8a0fc9-afe0-4089-ac0e-1796b0d8b0fc",
   "metadata": {},
   "outputs": [
    {
     "data": {
      "text/html": [
       "\n",
       "                <script type=\"application/javascript\" id=\"jupyter_black\">\n",
       "                (function() {\n",
       "                    if (window.IPython === undefined) {\n",
       "                        return\n",
       "                    }\n",
       "                    var msg = \"WARNING: it looks like you might have loaded \" +\n",
       "                        \"jupyter_black in a non-lab notebook with \" +\n",
       "                        \"`is_lab=True`. Please double check, and if \" +\n",
       "                        \"loading with `%load_ext` please review the README!\"\n",
       "                    console.log(msg)\n",
       "                    alert(msg)\n",
       "                })()\n",
       "                </script>\n",
       "                "
      ],
      "text/plain": [
       "<IPython.core.display.HTML object>"
      ]
     },
     "metadata": {},
     "output_type": "display_data"
    }
   ],
   "source": [
    "%load_ext jupyter_black"
   ]
  },
  {
   "cell_type": "code",
   "execution_count": 6,
   "id": "08e0ca2e-0bc6-45fa-bfc7-6893268cf95e",
   "metadata": {},
   "outputs": [],
   "source": [
    "import json\n",
    "import requests\n",
    "\n",
    "import pymysql\n",
    "import pywikibot  # included in all PAWS instances\n",
    "from SPARQLWrapper import JSON, POST, SPARQLWrapper\n",
    "from wikidata.client import Client\n",
    "from wikidataintegrator import wdi_core"
   ]
  },
  {
   "cell_type": "markdown",
   "id": "8d2aace5-9ace-4d80-81a7-2200edca4186",
   "metadata": {},
   "source": [
    "## Wikidata REST API"
   ]
  },
  {
   "cell_type": "markdown",
   "id": "e995aa0f-de1f-4e3c-8cbf-1cef6f93b878",
   "metadata": {},
   "source": [
    "Please see the [Wikidata REST API documentation](https://www.wikidata.org/wiki/Wikidata:REST_API) for more information.\n",
    "\n",
    "The following is a very simple example of doing get requets with the API, but there's [so much more](https://doc.wikimedia.org/Wikibase/master/js/rest-api/) that can be done with it!\n",
    "\n",
    "**Note**: in the REST API properties are referred to as statements."
   ]
  },
  {
   "cell_type": "code",
   "execution_count": 7,
   "id": "df5344d0-5757-464c-b99e-aa79f608cd8b",
   "metadata": {},
   "outputs": [],
   "source": [
    "def rest_api_get_request(wd_qid: str, term: str = \"\"):\n",
    "    api_endpoint = \"https://www.wikidata.org/w/rest.php/wikibase/v0\"\n",
    "    request_string = api_endpoint + \"/entities/items/\" + f\"{wd_qid}\"\n",
    "    if term != \"\":\n",
    "        request_string += f\"/{term}\"\n",
    "\n",
    "    request = requests.get(request_string)\n",
    "\n",
    "    return request.json()"
   ]
  },
  {
   "cell_type": "code",
   "execution_count": 8,
   "id": "c9fe17e8-f5bb-4ca9-a75b-fff6df540643",
   "metadata": {},
   "outputs": [
    {
     "data": {
      "text/plain": [
       "'Douglas Adams'"
      ]
     },
     "execution_count": 8,
     "metadata": {},
     "output_type": "execute_result"
    }
   ],
   "source": [
    "rest_api_q42_label = rest_api_get_request(wd_qid=\"Q42\", term=\"labels\")[\"en\"]\n",
    "rest_api_q42_label"
   ]
  },
  {
   "cell_type": "code",
   "execution_count": 9,
   "id": "a941efa5-e44b-4f4d-8a6d-d7e8574daf8f",
   "metadata": {},
   "outputs": [],
   "source": [
    "rest_api_q42_notable_work_ids = [\n",
    "    r[\"value\"][\"content\"]\n",
    "    for r in rest_api_get_request(wd_qid=\"Q42\", term=\"statements\")[\"P800\"]\n",
    "]"
   ]
  },
  {
   "cell_type": "code",
   "execution_count": 10,
   "id": "d99f9e96-130a-400f-9180-a9ddf097e30e",
   "metadata": {},
   "outputs": [],
   "source": [
    "wd_q42_notable_work_labels = [\n",
    "    rest_api_get_request(wd_qid=i, term=\"labels\")[\"en\"]\n",
    "    for i in rest_api_q42_notable_work_ids\n",
    "]"
   ]
  },
  {
   "cell_type": "code",
   "execution_count": 11,
   "id": "749fd73d-1b88-4242-802d-2ca3357b9bdf",
   "metadata": {},
   "outputs": [
    {
     "data": {
      "text/plain": [
       "[\"The Hitchhiker's Guide to the Galaxy pentalogy\",\n",
       " 'Dirk Gently series',\n",
       " 'The Private Life of Genghis Khan']"
      ]
     },
     "execution_count": 11,
     "metadata": {},
     "output_type": "execute_result"
    }
   ],
   "source": [
    "wd_q42_notable_work_labels"
   ]
  },
  {
   "cell_type": "markdown",
   "id": "a425dafb-59b0-4242-b2f3-d3c0bd54b48a",
   "metadata": {},
   "source": [
    "## WikidataIntegrator"
   ]
  },
  {
   "cell_type": "markdown",
   "id": "b633b884-349c-4b5a-9a56-5f90b9914b47",
   "metadata": {},
   "source": [
    "Please see the [project readme on GitHub](https://github.com/SuLab/WikidataIntegrator#wikidata-integrator) for more information.\n",
    "\n",
    "Note that although WikidataIntegrator can also run SPARQL queries, SPARQLWrapper is the preferred query package as it has fewer limitations."
   ]
  },
  {
   "cell_type": "code",
   "execution_count": 12,
   "id": "13b40dc4-ccc9-41c7-a0bd-cc0f04b5b130",
   "metadata": {},
   "outputs": [],
   "source": [
    "wdi_q42 = wdi_core.WDItemEngine(wd_item_id=\"Q42\")"
   ]
  },
  {
   "cell_type": "code",
   "execution_count": 13,
   "id": "dd8eebf9-a518-43fb-bbaf-ed1f68c09e6c",
   "metadata": {},
   "outputs": [],
   "source": [
    "wdi_q42_dict = wdi_q42.get_wd_json_representation()"
   ]
  },
  {
   "cell_type": "code",
   "execution_count": 14,
   "id": "ebe6ab61-e48c-4c79-a00a-239c5f99efaf",
   "metadata": {},
   "outputs": [
    {
     "data": {
      "text/plain": [
       "'Douglas Adams'"
      ]
     },
     "execution_count": 14,
     "metadata": {},
     "output_type": "execute_result"
    }
   ],
   "source": [
    "wdi_q42_dict[\"labels\"][\"en\"][\"value\"]"
   ]
  },
  {
   "cell_type": "code",
   "execution_count": 15,
   "id": "1c193b01-3293-4886-a7d4-25f1338a21d0",
   "metadata": {},
   "outputs": [],
   "source": [
    "wdi_q42_notable_work_ids = [\n",
    "    w[\"mainsnak\"][\"datavalue\"][\"value\"][\"id\"] for w in wdi_q42_dict[\"claims\"][\"P800\"]\n",
    "]"
   ]
  },
  {
   "cell_type": "code",
   "execution_count": 16,
   "id": "33a5146f-4ffe-4d49-8a75-ef06e2d2aad8",
   "metadata": {},
   "outputs": [],
   "source": [
    "wdi_q42_notable_work_labels = [\n",
    "    wdi_core.WDItemEngine(wd_item_id=i).get_wd_json_representation()[\"labels\"][\"en\"][\n",
    "        \"value\"\n",
    "    ]\n",
    "    for i in wdi_q42_notable_work_ids\n",
    "]"
   ]
  },
  {
   "cell_type": "code",
   "execution_count": 17,
   "id": "24310acb-3a83-4984-b03e-2829eb4ad581",
   "metadata": {},
   "outputs": [
    {
     "data": {
      "text/plain": [
       "[\"The Hitchhiker's Guide to the Galaxy pentalogy\",\n",
       " 'Dirk Gently series',\n",
       " 'The Private Life of Genghis Khan']"
      ]
     },
     "execution_count": 17,
     "metadata": {},
     "output_type": "execute_result"
    }
   ],
   "source": [
    "wdi_q42_notable_work_labels"
   ]
  },
  {
   "cell_type": "markdown",
   "id": "fbfa4a1f-5b47-42c9-bebd-92e1916220c5",
   "metadata": {},
   "source": [
    "## SPARQLWrapper"
   ]
  },
  {
   "cell_type": "markdown",
   "id": "e0ea06c6-f2b5-4650-8fcc-dcea6c9b6d01",
   "metadata": {},
   "source": [
    "Please see the [How to use section](https://github.com/RDFLib/sparqlwrapper#how-to-use) of the [SPARQLWrapper repository](https://github.com/RDFLib/sparqlwrapper) on GitHub for more information.\n",
    "\n",
    "We'll give a more thorough overview of the SPARQL query language in the next notebook!"
   ]
  },
  {
   "cell_type": "code",
   "execution_count": 18,
   "id": "248a8571-484e-46c0-9f9b-0f4835a9ec7e",
   "metadata": {},
   "outputs": [],
   "source": [
    "# Set SPARQLWrapper query conditions.\n",
    "sparql = SPARQLWrapper(\"https://query.wikidata.org/sparql\")\n",
    "sparql.setReturnFormat(JSON)\n",
    "sparql.setMethod(POST)"
   ]
  },
  {
   "cell_type": "code",
   "execution_count": 19,
   "id": "04034c8c-5970-4c2b-9565-5009cf2a46ff",
   "metadata": {},
   "outputs": [],
   "source": [
    "sw_q42_label_query = \"\"\"\n",
    "SELECT \n",
    "    ?entity \n",
    "    ?entityLabel\n",
    "\n",
    "WHERE {\n",
    "    wd:Q42 rdfs:label ?entityLabel.\n",
    "\n",
    "    # Use the labelling service to allow us to query `authorLabel`.\n",
    "    SERVICE wikibase:label { \n",
    "        bd:serviceParam wikibase:language \"[AUTO_LANGUAGE], en\".\n",
    "    }\n",
    "}\n",
    "\"\"\""
   ]
  },
  {
   "cell_type": "code",
   "execution_count": 20,
   "id": "1d4f63d0-df20-4dc8-b1f9-b31b383852e5",
   "metadata": {},
   "outputs": [],
   "source": [
    "sparql.setQuery(sw_q42_label_query)\n",
    "sw_q42_label_results = sparql.query().convert()"
   ]
  },
  {
   "cell_type": "code",
   "execution_count": 21,
   "id": "834202b3-e1fd-43b2-b358-f0225159c66f",
   "metadata": {},
   "outputs": [],
   "source": [
    "sw_q42_label_bindings = sw_q42_label_results[\"results\"][\"bindings\"]"
   ]
  },
  {
   "cell_type": "code",
   "execution_count": 22,
   "id": "504baffb-b15d-4f92-983a-d2ede6a4d5b8",
   "metadata": {},
   "outputs": [],
   "source": [
    "sw_q42_label_bindings_en = [\n",
    "    r for r in sw_q42_label_bindings if r[\"entityLabel\"][\"xml:lang\"] == \"en\"\n",
    "][0]"
   ]
  },
  {
   "cell_type": "code",
   "execution_count": 23,
   "id": "a36832ed-6780-485b-810e-8bfeda5b21a7",
   "metadata": {},
   "outputs": [
    {
     "data": {
      "text/plain": [
       "'Douglas Adams'"
      ]
     },
     "execution_count": 23,
     "metadata": {},
     "output_type": "execute_result"
    }
   ],
   "source": [
    "sw_q42_label_bindings_en[\"entityLabel\"][\"value\"]"
   ]
  },
  {
   "cell_type": "code",
   "execution_count": 24,
   "id": "b8d69086-dba6-4bc9-9e5a-26584113b259",
   "metadata": {},
   "outputs": [],
   "source": [
    "sw_q42_notable_works_query = \"\"\"\n",
    "SELECT\n",
    "    ?work \n",
    "    ?workLabel \n",
    "    ?workDescription\n",
    "\n",
    "WHERE\n",
    "    {\n",
    "        # Douglas Adams  #author   # notable work\n",
    "        wd:Q42           wdt:P800   ?work.\n",
    "    \n",
    "        SERVICE wikibase:label {\n",
    "            bd:serviceParam wikibase:language \"[AUTO_LANGUAGE], en\".\n",
    "        }\n",
    "    }\n",
    "\"\"\""
   ]
  },
  {
   "cell_type": "code",
   "execution_count": 25,
   "id": "1e7538e3-f6a9-4025-a22f-bf8c903a1a6a",
   "metadata": {},
   "outputs": [],
   "source": [
    "sparql.setQuery(sw_q42_notable_works_query)\n",
    "sw_q42_notable_works_results = sparql.query().convert()"
   ]
  },
  {
   "cell_type": "code",
   "execution_count": 26,
   "id": "2e8d4861-4df2-4f89-b58d-08462bef51da",
   "metadata": {},
   "outputs": [],
   "source": [
    "sw_q42_notable_works_bindings = sw_q42_notable_works_results[\"results\"][\"bindings\"]"
   ]
  },
  {
   "cell_type": "code",
   "execution_count": 27,
   "id": "c4064463-3f44-4499-8c85-544a6b2e328e",
   "metadata": {},
   "outputs": [],
   "source": [
    "sw_q42_notable_works_formatted = []\n",
    "for r in sw_q42_notable_works_bindings:  # query_results is also a list\n",
    "    r_dict = {k: r[k][\"value\"] for k in r.keys()}\n",
    "\n",
    "    sw_q42_notable_works_formatted.append(r_dict)"
   ]
  },
  {
   "cell_type": "code",
   "execution_count": 28,
   "id": "f7b38ca6-def2-4622-979b-2aa8715b89a6",
   "metadata": {},
   "outputs": [
    {
     "data": {
      "text/plain": [
       "[{'work': 'http://www.wikidata.org/entity/Q25169',\n",
       "  'workLabel': \"The Hitchhiker's Guide to the Galaxy pentalogy\",\n",
       "  'workDescription': '1979-1992 series of five books by Douglas Adams'},\n",
       " {'work': 'http://www.wikidata.org/entity/Q7758404',\n",
       "  'workLabel': 'The Private Life of Genghis Khan',\n",
       "  'workDescription': 'story by Douglas Adams and Graham Chapman'},\n",
       " {'work': 'http://www.wikidata.org/entity/Q20736364',\n",
       "  'workLabel': 'Dirk Gently series',\n",
       "  'workDescription': 'series of three books by Douglas Adams'}]"
      ]
     },
     "execution_count": 28,
     "metadata": {},
     "output_type": "execute_result"
    }
   ],
   "source": [
    "sw_q42_notable_works_formatted[:3]"
   ]
  },
  {
   "cell_type": "markdown",
   "id": "9460a88f-f0ab-4513-9831-59c193496267",
   "metadata": {},
   "source": [
    "## Pywikibot"
   ]
  },
  {
   "cell_type": "markdown",
   "id": "a4472bcc-b2ba-4208-9b30-2ff75445ca0f",
   "metadata": {},
   "source": [
    "Please see the [Wikidata Pywikibot](https://www.wikidata.org/wiki/Wikidata:Pywikibot_-_Python_3_Tutorial) tutorial for more information."
   ]
  },
  {
   "cell_type": "code",
   "execution_count": 29,
   "id": "12bd3ad2-eca2-464a-a69a-1446513767fa",
   "metadata": {},
   "outputs": [],
   "source": [
    "# Normally in Pywikibot the first argument is a language ISO code.\n",
    "# For Wikidata we just repeat it (or use only one argument).\n",
    "site = pywikibot.Site(\"wikidata\", \"wikidata\")\n",
    "repo = site.data_repository()\n",
    "pwb_q42 = pywikibot.ItemPage(repo, \"Q42\")"
   ]
  },
  {
   "cell_type": "code",
   "execution_count": 30,
   "id": "df14857b-262d-4e8f-9596-77e4e57b5c2a",
   "metadata": {},
   "outputs": [],
   "source": [
    "pwb_q42_dict = pwb_q42.get()"
   ]
  },
  {
   "cell_type": "code",
   "execution_count": 31,
   "id": "2cddd0b4-22dc-4d2b-b9c7-867053ce885e",
   "metadata": {},
   "outputs": [
    {
     "data": {
      "text/plain": [
       "dict_keys(['labels', 'descriptions', 'aliases', 'claims', 'sitelinks'])"
      ]
     },
     "execution_count": 31,
     "metadata": {},
     "output_type": "execute_result"
    }
   ],
   "source": [
    "pwb_q42_dict.keys()"
   ]
  },
  {
   "cell_type": "code",
   "execution_count": 32,
   "id": "648f2aaf-9d73-498e-9962-cc10383afb6c",
   "metadata": {},
   "outputs": [
    {
     "data": {
      "text/plain": [
       "'Douglas Adams'"
      ]
     },
     "execution_count": 32,
     "metadata": {},
     "output_type": "execute_result"
    }
   ],
   "source": [
    "pwb_q42_dict[\"labels\"][\"en\"]"
   ]
  },
  {
   "cell_type": "code",
   "execution_count": 33,
   "id": "a368f1af-a4ab-47cd-a658-20c0f6d8f616",
   "metadata": {},
   "outputs": [],
   "source": [
    "# P800 is the Wikidata property for notable works.\n",
    "pwb_q42_notable_work_qids = [\n",
    "    \"Q\"\n",
    "    + str(\n",
    "        pwb_q42_dict[\"claims\"][\"P800\"][i].toJSON()[\"mainsnak\"][\"datavalue\"][\"value\"][\n",
    "            \"numeric-id\"\n",
    "        ]\n",
    "    )\n",
    "    for i in range(len(pwb_q42_dict[\"claims\"][\"P800\"]))\n",
    "]"
   ]
  },
  {
   "cell_type": "code",
   "execution_count": 34,
   "id": "fc5a01c3-4958-4bd9-a157-f70dbbbe3761",
   "metadata": {},
   "outputs": [],
   "source": [
    "pwb_q42_notable_work_labels = [\n",
    "    pywikibot.ItemPage(repo, i).get()[\"labels\"][\"en\"] for i in pwb_q42_notable_work_qids\n",
    "]"
   ]
  },
  {
   "cell_type": "code",
   "execution_count": 35,
   "id": "fa249945-cad2-457f-95ce-ef9fb0eb8ff6",
   "metadata": {},
   "outputs": [
    {
     "data": {
      "text/plain": [
       "[\"The Hitchhiker's Guide to the Galaxy pentalogy\",\n",
       " 'Dirk Gently series',\n",
       " 'The Private Life of Genghis Khan']"
      ]
     },
     "execution_count": 35,
     "metadata": {},
     "output_type": "execute_result"
    }
   ],
   "source": [
    "pwb_q42_notable_work_labels"
   ]
  },
  {
   "cell_type": "markdown",
   "id": "5236b26e-6112-4893-b1f9-54dfcf71ceb3",
   "metadata": {},
   "source": [
    "## wikidata"
   ]
  },
  {
   "cell_type": "markdown",
   "id": "165fbc9e-98ea-4841-9c0f-816986c7dd26",
   "metadata": {},
   "source": [
    "Please see the [docs on readthedocs](https://wikidata.readthedocs.io/en/stable/) for more information."
   ]
  },
  {
   "cell_type": "code",
   "execution_count": 36,
   "id": "edf236d2-117b-4ba9-91d3-384c8c4bfaae",
   "metadata": {},
   "outputs": [],
   "source": [
    "# Set the client from which we'll access Wikidata.\n",
    "client = Client()\n",
    "wd_q42_entity = client.get(\"Q42\", load=True)"
   ]
  },
  {
   "cell_type": "code",
   "execution_count": 37,
   "id": "a9eabe3c-1c57-434e-a70b-072667fd44df",
   "metadata": {},
   "outputs": [
    {
     "data": {
      "text/plain": [
       "m'Douglas Adams'"
      ]
     },
     "execution_count": 37,
     "metadata": {},
     "output_type": "execute_result"
    }
   ],
   "source": [
    "wd_q42_entity.label  # below is multilingual text that we can access like a dictionary"
   ]
  },
  {
   "cell_type": "code",
   "execution_count": 38,
   "id": "d9e75e16-5512-4e13-8035-43d806eb6965",
   "metadata": {},
   "outputs": [
    {
     "data": {
      "text/plain": [
       "'English author and humourist (1952–2001)'"
      ]
     },
     "execution_count": 38,
     "metadata": {},
     "output_type": "execute_result"
    }
   ],
   "source": [
    "wd_q42_entity.description[\"en\"]"
   ]
  },
  {
   "cell_type": "code",
   "execution_count": 39,
   "id": "3a62582a-b6c2-4032-ba74-9719d74632f5",
   "metadata": {},
   "outputs": [],
   "source": [
    "wd_q42_notable_work_ids = [\n",
    "    w[\"mainsnak\"][\"datavalue\"][\"value\"][\"id\"]\n",
    "    for w in wd_q42_entity.data[\"claims\"][\"P800\"]\n",
    "]"
   ]
  },
  {
   "cell_type": "code",
   "execution_count": 40,
   "id": "bed6531c-dadd-4bc6-b493-5b75fa32ac90",
   "metadata": {},
   "outputs": [],
   "source": [
    "wd_q42_notable_work_labels = [\n",
    "    client.get(i, load=True).label[\"en\"] for i in wd_q42_notable_work_ids\n",
    "]"
   ]
  },
  {
   "cell_type": "code",
   "execution_count": 41,
   "id": "6fa09150-e176-467b-8eb4-3527a9497c7e",
   "metadata": {},
   "outputs": [
    {
     "data": {
      "text/plain": [
       "[\"The Hitchhiker's Guide to the Galaxy pentalogy\",\n",
       " 'Dirk Gently series',\n",
       " 'The Private Life of Genghis Khan']"
      ]
     },
     "execution_count": 41,
     "metadata": {},
     "output_type": "execute_result"
    }
   ],
   "source": [
    "wd_q42_notable_work_labels"
   ]
  },
  {
   "cell_type": "markdown",
   "id": "908c76d8-44d2-43d1-91cb-1a34c82c006b",
   "metadata": {},
   "source": [
    "## Wiki Replicas"
   ]
  },
  {
   "cell_type": "markdown",
   "id": "f85d1c44-15e4-4429-bb7a-8a1c17a6c183",
   "metadata": {},
   "source": [
    "Please see the [Wiki Replicas documentation page on Wikitech](https://wikitech.wikimedia.org/wiki/Wiki_Replicas) for more information.\n",
    "\n",
    "Wiki Replicas are databases containing a sanitized version of the Wikimedia's [production databases in our data lake](https://wikitech.wikimedia.org/wiki/Analytics/Data_Lake).\n",
    "\n",
    "**Note**: as Wikidata is so large, we do not have a `text` (or `pagecontent`) table as in other wikis, so this is not a viable option for working with Wikidata. It's brought up here only to mention it as a possbility when working with other Wikimedia projects."
   ]
  },
  {
   "cell_type": "code",
   "execution_count": null,
   "id": "cc36b41a-bca6-4f77-9c2d-2d0b4c41569f",
   "metadata": {},
   "outputs": [],
   "source": []
  }
 ],
 "metadata": {
  "kernelspec": {
   "display_name": "Python 3 (ipykernel)",
   "language": "python",
   "name": "python3"
  },
  "language_info": {
   "codemirror_mode": {
    "name": "ipython",
    "version": 3
   },
   "file_extension": ".py",
   "mimetype": "text/x-python",
   "name": "python",
   "nbconvert_exporter": "python",
   "pygments_lexer": "ipython3",
   "version": "3.10.12"
  }
 },
 "nbformat": 4,
 "nbformat_minor": 5
}
